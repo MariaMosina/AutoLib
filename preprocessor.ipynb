{
 "cells": [
  {
   "cell_type": "code",
   "execution_count": 1,
   "metadata": {},
   "outputs": [],
   "source": [
    "from sklearn.preprocessing import MinMaxScaler, StandardScaler\n",
    "from sklearn.model_selection import KFold, StratifiedKFold"
   ]
  },
  {
   "cell_type": "code",
   "execution_count": 2,
   "metadata": {},
   "outputs": [],
   "source": [
    "class Preprocessor:\n",
    "    def __init__(self, scaling = None, split = None, n_splits = 2):\n",
    "        self.scaling = scaling\n",
    "        self.split = split\n",
    "        self.n_splits = n_splits\n",
    "        \n",
    "    def get_scaled(self, X, X_test=None):\n",
    "        if self.scaling == 'MinMax':\n",
    "            scaler = MinMaxScaler()\n",
    "        elif self.scaling == 'Standard':\n",
    "            scaler = StandardScaler()\n",
    "        if X_test is not None:\n",
    "            return scaler.fit_transform(X), scaler.transform(X_test)\n",
    "        else:\n",
    "            return scaler.fit_transform(X)\n",
    "    \n",
    "    def get_split(self, X, y=None):\n",
    "        if self.split == 'Kfold':\n",
    "            kf = KFold(n_splits = self.n_splits)\n",
    "        elif self.split == 'StratifiedKFold':\n",
    "            kf = StratifiedKFold(n_splits = self.n_splits)\n",
    "        if y is not None:\n",
    "            return list(kf.split(X, y))\n",
    "        else:\n",
    "            return list(kf.split(X))"
   ]
  }
 ],
 "metadata": {
  "kernelspec": {
   "display_name": "Python 3",
   "language": "python",
   "name": "python3"
  },
  "language_info": {
   "codemirror_mode": {
    "name": "ipython",
    "version": 3
   },
   "file_extension": ".py",
   "mimetype": "text/x-python",
   "name": "python",
   "nbconvert_exporter": "python",
   "pygments_lexer": "ipython3",
   "version": "3.7.1"
  }
 },
 "nbformat": 4,
 "nbformat_minor": 2
}
